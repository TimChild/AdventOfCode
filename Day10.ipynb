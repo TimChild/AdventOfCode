{
 "cells": [
  {
   "cell_type": "code",
   "execution_count": 40,
   "metadata": {},
   "outputs": [],
   "source": [
    "import numpy as np\n",
    "import pandas as pd\n",
    "import math\n",
    "from itertools import product, chain\n",
    "import re"
   ]
  },
  {
   "cell_type": "code",
   "execution_count": 107,
   "metadata": {},
   "outputs": [
    {
     "data": {
      "text/plain": [
       "array([ 73.,  74.,  87., 182.,  35.])"
      ]
     },
     "execution_count": 107,
     "metadata": {},
     "output_type": "execute_result"
    }
   ],
   "source": [
    "# data = np.loadtxt('Day10_input_test.txt')\n",
    "data = np.loadtxt('Day10_input.txt')\n",
    "data[-5:]"
   ]
  },
  {
   "cell_type": "code",
   "execution_count": 108,
   "metadata": {},
   "outputs": [],
   "source": [
    "dev_jolt = np.max(data) + 3\n",
    "data = np.append(data, [0, dev_jolt])"
   ]
  },
  {
   "cell_type": "markdown",
   "metadata": {},
   "source": [
    "# Part 1"
   ]
  },
  {
   "cell_type": "code",
   "execution_count": 109,
   "metadata": {},
   "outputs": [
    {
     "name": "stdout",
     "output_type": "stream",
     "text": [
      "74 37 2738\n"
     ]
    }
   ],
   "source": [
    "ordered = np.sort(data)\n",
    "diffs = np.diff(ordered)\n",
    "ones = np.sum(diffs == 1)\n",
    "threes = np.sum(diffs == 3)\n",
    "print(ones, threes, ones*threes)"
   ]
  },
  {
   "cell_type": "markdown",
   "metadata": {},
   "source": [
    "# Part 2"
   ]
  },
  {
   "cell_type": "code",
   "execution_count": 110,
   "metadata": {},
   "outputs": [
    {
     "data": {
      "text/plain": [
       "array([  0.,   1.,   2.,   5.,   6.,   7.,   8.,   9.,  12.,  13.,  16.,\n",
       "        17.,  18.,  19.,  22.,  25.,  26.,  27.,  28.,  31.,  34.,  35.,\n",
       "        36.,  37.,  38.,  41.,  44.,  45.,  46.,  47.,  48.,  51.,  52.,\n",
       "        53.,  56.,  59.,  60.,  61.,  62.,  65.,  66.,  67.,  68.,  71.,\n",
       "        72.,  73.,  74.,  75.,  78.,  81.,  84.,  87.,  88.,  89.,  90.,\n",
       "        93.,  94.,  95.,  98.,  99., 102., 103., 104., 105., 106., 109.,\n",
       "       110., 111., 112., 113., 116., 117., 118., 121., 122., 123., 124.,\n",
       "       127., 130., 133., 134., 135., 136., 137., 140., 141., 142., 145.,\n",
       "       146., 147., 148., 149., 152., 153., 156., 159., 160., 161., 164.,\n",
       "       165., 168., 169., 170., 171., 172., 175., 178., 179., 180., 181.,\n",
       "       182., 185.])"
      ]
     },
     "execution_count": 110,
     "metadata": {},
     "output_type": "execute_result"
    }
   ],
   "source": [
    "ordered"
   ]
  },
  {
   "cell_type": "code",
   "execution_count": 111,
   "metadata": {},
   "outputs": [
    {
     "data": {
      "text/plain": [
       "array([1., 1., 3., 1., 1., 1., 1., 3., 1., 3., 1., 1., 1., 3., 3., 1., 1.,\n",
       "       1., 3., 3., 1., 1., 1., 1., 3., 3., 1., 1., 1., 1., 3., 1., 1., 3.,\n",
       "       3., 1., 1., 1., 3., 1., 1., 1., 3., 1., 1., 1., 1., 3., 3., 3., 3.,\n",
       "       1., 1., 1., 3., 1., 1., 3., 1., 3., 1., 1., 1., 1., 3., 1., 1., 1.,\n",
       "       1., 3., 1., 1., 3., 1., 1., 1., 3., 3., 3., 1., 1., 1., 1., 3., 1.,\n",
       "       1., 3., 1., 1., 1., 1., 3., 1., 3., 3., 1., 1., 3., 1., 3., 1., 1.,\n",
       "       1., 1., 3., 3., 1., 1., 1., 1., 3.])"
      ]
     },
     "execution_count": 111,
     "metadata": {},
     "output_type": "execute_result"
    }
   ],
   "source": [
    "diffs"
   ]
  },
  {
   "cell_type": "code",
   "execution_count": 112,
   "metadata": {},
   "outputs": [
    {
     "data": {
      "text/plain": [
       "array([  2,   7,   9,  13,  14,  18,  19,  24,  25,  30,  33,  34,  38,\n",
       "        42,  47,  48,  49,  50,  54,  57,  59,  64,  69,  72,  76,  77,\n",
       "        78,  83,  86,  91,  93,  94,  97,  99, 104, 105, 110], dtype=int64)"
      ]
     },
     "execution_count": 112,
     "metadata": {},
     "output_type": "execute_result"
    }
   ],
   "source": [
    "three_ids = np.where(diffs == 3)[0]\n",
    "three_ids"
   ]
  },
  {
   "cell_type": "code",
   "execution_count": 113,
   "metadata": {},
   "outputs": [
    {
     "data": {
      "text/plain": [
       "array([3, 5, 2, 4, 1, 4, 1, 5, 1, 5, 3, 1, 4, 4, 5, 1, 1, 1, 4, 3, 2, 5,\n",
       "       5, 3, 4, 1, 1, 5, 3, 5, 2, 1, 3, 2, 5, 1, 5, 1], dtype=int64)"
      ]
     },
     "execution_count": 113,
     "metadata": {},
     "output_type": "execute_result"
    }
   ],
   "source": [
    "chunks = np.diff(three_ids, prepend=-1, append=max(three_ids+1))\n",
    "chunks"
   ]
  },
  {
   "cell_type": "code",
   "execution_count": 114,
   "metadata": {},
   "outputs": [],
   "source": [
    "def combs(num):\n",
    "    if num <= 2:\n",
    "        return 1\n",
    "    elif num == 3:\n",
    "        return 2\n",
    "    elif num == 4:\n",
    "        return 4\n",
    "    elif num == 5:\n",
    "        return 7\n",
    "    else:\n",
    "        raise NotImplementedError\n",
    "    \n",
    "    "
   ]
  },
  {
   "cell_type": "code",
   "execution_count": 118,
   "metadata": {},
   "outputs": [
    {
     "data": {
      "text/plain": [
       "[2,\n",
       " 7,\n",
       " 1,\n",
       " 4,\n",
       " 1,\n",
       " 4,\n",
       " 1,\n",
       " 7,\n",
       " 1,\n",
       " 7,\n",
       " 2,\n",
       " 1,\n",
       " 4,\n",
       " 4,\n",
       " 7,\n",
       " 1,\n",
       " 1,\n",
       " 1,\n",
       " 4,\n",
       " 2,\n",
       " 1,\n",
       " 7,\n",
       " 7,\n",
       " 2,\n",
       " 4,\n",
       " 1,\n",
       " 1,\n",
       " 7,\n",
       " 2,\n",
       " 7,\n",
       " 1,\n",
       " 1,\n",
       " 2,\n",
       " 1,\n",
       " 7,\n",
       " 1,\n",
       " 7,\n",
       " 1]"
      ]
     },
     "execution_count": 118,
     "metadata": {},
     "output_type": "execute_result"
    }
   ],
   "source": [
    "combinations = list(map(combs, chunks))\n",
    "combinations"
   ]
  },
  {
   "cell_type": "code",
   "execution_count": 120,
   "metadata": {},
   "outputs": [
    {
     "data": {
      "text/plain": [
       "74049191673856"
      ]
     },
     "execution_count": 120,
     "metadata": {},
     "output_type": "execute_result"
    }
   ],
   "source": [
    "int(np.product(combinations, dtype=np.float64))"
   ]
  },
  {
   "cell_type": "code",
   "execution_count": null,
   "metadata": {},
   "outputs": [],
   "source": []
  }
 ],
 "metadata": {
  "kernelspec": {
   "display_name": "PyDatKernel",
   "language": "python",
   "name": "pydatkernel"
  },
  "language_info": {
   "codemirror_mode": {
    "name": "ipython",
    "version": 3
   },
   "file_extension": ".py",
   "mimetype": "text/x-python",
   "name": "python",
   "nbconvert_exporter": "python",
   "pygments_lexer": "ipython3",
   "version": "3.8.5"
  }
 },
 "nbformat": 4,
 "nbformat_minor": 4
}
