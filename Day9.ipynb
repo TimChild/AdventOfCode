{
 "cells": [
  {
   "cell_type": "code",
   "execution_count": 84,
   "metadata": {},
   "outputs": [],
   "source": [
    "import numpy as np\n",
    "import pandas as pd\n",
    "from itertools import product, chain\n",
    "import re"
   ]
  },
  {
   "cell_type": "code",
   "execution_count": 85,
   "metadata": {},
   "outputs": [
    {
     "data": {
      "text/plain": [
       "['dark cyan bags contain 4 bright turquoise bags, 5 faded cyan bags, 5 dim salmon bags.\\n',\n",
       " 'bright brown bags contain 4 drab tan bags, 4 mirrored gold bags.\\n',\n",
       " 'striped chartreuse bags contain 1 wavy silver bag.\\n',\n",
       " 'striped yellow bags contain 3 dim beige bags, 5 dim coral bags.\\n',\n",
       " 'dotted aqua bags contain 1 mirrored green bag, 5 shiny maroon bags.']"
      ]
     },
     "execution_count": 85,
     "metadata": {},
     "output_type": "execute_result"
    }
   ],
   "source": [
    "with open('Day???_input.txt') as f:\n",
    "    raw = f.readlines()\n",
    "raw[-5:]"
   ]
  },
  {
   "cell_type": "markdown",
   "metadata": {},
   "source": [
    "# Part 1"
   ]
  },
  {
   "cell_type": "markdown",
   "metadata": {},
   "source": [
    "# Part 2"
   ]
  }
 ],
 "metadata": {
  "kernelspec": {
   "display_name": "PyDatKernel",
   "language": "python",
   "name": "pydatkernel"
  },
  "language_info": {
   "codemirror_mode": {
    "name": "ipython",
    "version": 3
   },
   "file_extension": ".py",
   "mimetype": "text/x-python",
   "name": "python",
   "nbconvert_exporter": "python",
   "pygments_lexer": "ipython3",
   "version": "3.8.5"
  }
 },
 "nbformat": 4,
 "nbformat_minor": 4
}
