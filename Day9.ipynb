{
 "cells": [
  {
   "cell_type": "code",
   "execution_count": 2,
   "metadata": {},
   "outputs": [],
   "source": [
    "import numpy as np\n",
    "import pandas as pd\n",
    "from itertools import product, chain\n",
    "import re"
   ]
  },
  {
   "cell_type": "code",
   "execution_count": 56,
   "metadata": {},
   "outputs": [
    {
     "data": {
      "text/plain": [
       "array([5.76056754e+13, 7.35855981e+13, 8.14441817e+13, 9.63384056e+13,\n",
       "       9.71823238e+13])"
      ]
     },
     "execution_count": 56,
     "metadata": {},
     "output_type": "execute_result"
    }
   ],
   "source": [
    "# PREAMBLE = 5\n",
    "# data = np.loadtxt('Day9_input_test.txt')\n",
    "PREAMBLE = 25\n",
    "data = np.loadtxt('Day9_input.txt')\n",
    "data[-5:]"
   ]
  },
  {
   "cell_type": "code",
   "execution_count": 57,
   "metadata": {},
   "outputs": [],
   "source": [
    "def check_num(arr, index):\n",
    "    if index < PREAMBLE:\n",
    "        return True\n",
    "    elif arr[index] in [sum([x, y]) for x, y in product(arr[index-PREAMBLE:index], arr[index-PREAMBLE:index])]:\n",
    "        return True\n",
    "    return False\n",
    "    "
   ]
  },
  {
   "cell_type": "markdown",
   "metadata": {},
   "source": [
    "# Part 1"
   ]
  },
  {
   "cell_type": "code",
   "execution_count": 58,
   "metadata": {},
   "outputs": [
    {
     "name": "stdout",
     "output_type": "stream",
     "text": [
      "Invalid at index 564: 105950735.0\n"
     ]
    }
   ],
   "source": [
    "for i in range(len(data)):\n",
    "    if check_num(data, i) is False:\n",
    "        inval = data[i]\n",
    "        print(f'Invalid at index {i}: {data[i]}')"
   ]
  },
  {
   "cell_type": "markdown",
   "metadata": {},
   "source": [
    "# Part 2"
   ]
  },
  {
   "cell_type": "code",
   "execution_count": 59,
   "metadata": {},
   "outputs": [],
   "source": [
    "# inval defined in Part1\n",
    "\n",
    "def rolling_sum(array_numbers, n):\n",
    "    # adapted from https://stackoverflow.com/review/suggested-edits/26220351\n",
    "    if n > len(array_numbers):\n",
    "        return []\n",
    "    temp_sum = sum(array_numbers[:n])\n",
    "    rolling_sum = [temp_sum]\n",
    "    for first_index, item in enumerate(array_numbers[n:]):\n",
    "        temp_sum += item - array_numbers[first_index]\n",
    "        rolling_sum.append(temp_sum)\n",
    "    return rolling_sum    \n"
   ]
  },
  {
   "cell_type": "code",
   "execution_count": 60,
   "metadata": {},
   "outputs": [
    {
     "name": "stdout",
     "output_type": "stream",
     "text": [
      "Found sum with chunk = 17 at index = 448\n",
      "Datas = [4117189. 4154061. 4424828. 4208390. 5060031. 4391939. 8942999. 5977809.\n",
      " 8491671. 5334788. 8808360. 5708469. 7418529. 5800654. 9709726. 6431377.\n",
      " 6969915.]\n",
      "Weakness = 13826915\n"
     ]
    }
   ],
   "source": [
    "chunk = 2\n",
    "while True:\n",
    "    roll_sum = rolling_sum(data, chunk)\n",
    "    if inval in roll_sum:\n",
    "        ind = int(np.where(roll_sum == inval)[0][0])\n",
    "        sum_datas = data[ind:ind+chunk]\n",
    "        print(f'Found sum with chunk = {chunk} at index = {ind}\\n'\n",
    "            f'Datas = {sum_datas}\\n'\n",
    "            f'Weakness = {np.sum([np.min(sum_datas), np.max(sum_datas)]):.0f}')\n",
    "        \n",
    "        break\n",
    "    chunk += 1\n"
   ]
  },
  {
   "cell_type": "code",
   "execution_count": null,
   "metadata": {},
   "outputs": [],
   "source": []
  }
 ],
 "metadata": {
  "kernelspec": {
   "display_name": "PyDatKernel",
   "language": "python",
   "name": "pydatkernel"
  },
  "language_info": {
   "codemirror_mode": {
    "name": "ipython",
    "version": 3
   },
   "file_extension": ".py",
   "mimetype": "text/x-python",
   "name": "python",
   "nbconvert_exporter": "python",
   "pygments_lexer": "ipython3",
   "version": "3.8.5"
  }
 },
 "nbformat": 4,
 "nbformat_minor": 4
}
