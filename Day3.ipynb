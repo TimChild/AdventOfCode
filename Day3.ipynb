{
 "cells": [
  {
   "cell_type": "code",
   "execution_count": 2,
   "metadata": {},
   "outputs": [],
   "source": [
    "import numpy as np\n",
    "import pandas as pd\n",
    "from itertools import product\n",
    "import re"
   ]
  },
  {
   "cell_type": "code",
   "execution_count": 55,
   "metadata": {},
   "outputs": [
    {
     "data": {
      "text/plain": [
       "array([[0., 0., 0., ..., 1., 0., 0.],\n",
       "       [0., 0., 0., ..., 0., 0., 0.],\n",
       "       [0., 0., 0., ..., 0., 0., 0.],\n",
       "       ...,\n",
       "       [0., 0., 0., ..., 1., 0., 0.],\n",
       "       [0., 0., 1., ..., 0., 0., 0.],\n",
       "       [0., 0., 0., ..., 0., 0., 1.]])"
      ]
     },
     "execution_count": 55,
     "metadata": {},
     "output_type": "execute_result"
    }
   ],
   "source": [
    "raw = []\n",
    "with open('Day3_input.txt', 'r') as f:\n",
    "    for l in f:\n",
    "        raw.append(l)\n",
    "raw = np.array([[c for c in d if c != '\\n'] for d in raw])\n",
    "data = np.zeros(raw.shape)\n",
    "data[np.where(raw == '#')] = 1\n",
    "data"
   ]
  },
  {
   "cell_type": "code",
   "execution_count": 56,
   "metadata": {},
   "outputs": [
    {
     "data": {
      "text/plain": [
       "1943.0"
      ]
     },
     "execution_count": 56,
     "metadata": {},
     "output_type": "execute_result"
    }
   ],
   "source": [
    "np.sum(data)"
   ]
  },
  {
   "cell_type": "markdown",
   "metadata": {},
   "source": [
    "# Part 1"
   ]
  },
  {
   "cell_type": "code",
   "execution_count": 59,
   "metadata": {},
   "outputs": [
    {
     "data": {
      "text/plain": [
       "191"
      ]
     },
     "execution_count": 59,
     "metadata": {},
     "output_type": "execute_result"
    }
   ],
   "source": [
    "ids = np.array([(1*i, (3*i)%data.shape[1]) for i in range(data.shape[0])])\n",
    "trees = data[ids[:,0], ids[:,1]]\n",
    "np.sum(trees).astype(int)"
   ]
  },
  {
   "cell_type": "markdown",
   "metadata": {},
   "source": [
    "# Part 2"
   ]
  },
  {
   "cell_type": "code",
   "execution_count": 64,
   "metadata": {},
   "outputs": [
    {
     "name": "stdout",
     "output_type": "stream",
     "text": [
      "Trees Encountered: [60, 191, 64, 63, 32]\n",
      "Multiplied: 1478615040\n"
     ]
    }
   ],
   "source": [
    "angles = ([1,1], [3, 1], [5,1], [7,1], [1, 2])\n",
    "trees_encountered = []\n",
    "for angle in angles:\n",
    "    ids = np.array([(angle[1]*i, (angle[0]*i)%data.shape[1]) for i in range(int((data.shape[0]/angle[1])))])\n",
    "    trees_encountered.append(np.sum(data[ids[:, 0], ids[:, 1]]).astype(int))\n",
    "print(f'Trees Encountered: {trees_encountered}')\n",
    "print(f'Multiplied: {np.product(trees_encountered)}')"
   ]
  }
 ],
 "metadata": {
  "kernelspec": {
   "display_name": "PyDatKernel",
   "language": "python",
   "name": "pydatkernel"
  },
  "language_info": {
   "codemirror_mode": {
    "name": "ipython",
    "version": 3
   },
   "file_extension": ".py",
   "mimetype": "text/x-python",
   "name": "python",
   "nbconvert_exporter": "python",
   "pygments_lexer": "ipython3",
   "version": "3.8.5"
  }
 },
 "nbformat": 4,
 "nbformat_minor": 4
}
