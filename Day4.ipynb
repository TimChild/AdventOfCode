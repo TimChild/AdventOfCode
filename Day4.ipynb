{
 "cells": [
  {
   "cell_type": "code",
   "execution_count": 113,
   "metadata": {},
   "outputs": [],
   "source": [
    "import numpy as np\n",
    "import pandas as pd\n",
    "from itertools import product\n",
    "import re"
   ]
  },
  {
   "cell_type": "code",
   "execution_count": 144,
   "metadata": {},
   "outputs": [
    {
     "data": {
      "text/plain": [
       "['eyr:2021 hgt:168cm hcl:#fffffd pid:180778832 byr:1923 ecl:amb iyr:2019 cid:241\\n',\n",
       " '\\n']"
      ]
     },
     "execution_count": 144,
     "metadata": {},
     "output_type": "execute_result"
    }
   ],
   "source": [
    "# fname = 'Day4_tests.txt'\n",
    "fname = 'Day4_input.txt'\n",
    "with open(fname, 'r') as f:\n",
    "    lines = f.readlines()\n",
    "lines[0:2]"
   ]
  },
  {
   "cell_type": "code",
   "execution_count": 145,
   "metadata": {},
   "outputs": [
    {
     "data": {
      "text/plain": [
       "['eyr:2021 hgt:168cm hcl:#fffffd pid:180778832 byr:1923 ecl:amb iyr:2019 cid:241\\n',\n",
       " '\\n']"
      ]
     },
     "execution_count": 145,
     "metadata": {},
     "output_type": "execute_result"
    }
   ],
   "source": [
    "raw = []\n",
    "for line in lines:\n",
    "    raw.append(line)\n",
    "raw[0:2]"
   ]
  },
  {
   "cell_type": "code",
   "execution_count": 146,
   "metadata": {},
   "outputs": [
    {
     "data": {
      "text/plain": [
       "['eyr:2021 hgt:168cm hcl:#fffffd pid:180778832 byr:1923 ecl:amb iyr:2019 cid:241',\n",
       " 'hcl:#341e13 ecl:lzr eyr:2024 iyr:2014 pid:161cm byr:1991 cid:59 hgt:150cm']"
      ]
     },
     "execution_count": 146,
     "metadata": {},
     "output_type": "execute_result"
    }
   ],
   "source": [
    "string = ''\n",
    "for l in raw:\n",
    "    string += l\n",
    "\n",
    "entries = string.split('\\n\\n')\n",
    "entries = [e.strip().replace('\\n', ' ') for e in entries]\n",
    "entries[0:2]"
   ]
  },
  {
   "cell_type": "code",
   "execution_count": 147,
   "metadata": {},
   "outputs": [
    {
     "data": {
      "text/plain": [
       "[{'eyr': '2021',\n",
       "  'hgt': '168cm',\n",
       "  'hcl': '#fffffd',\n",
       "  'pid': '180778832',\n",
       "  'byr': '1923',\n",
       "  'ecl': 'amb',\n",
       "  'iyr': '2019',\n",
       "  'cid': '241'},\n",
       " {'hcl': '#341e13',\n",
       "  'ecl': 'lzr',\n",
       "  'eyr': '2024',\n",
       "  'iyr': '2014',\n",
       "  'pid': '161cm',\n",
       "  'byr': '1991',\n",
       "  'cid': '59',\n",
       "  'hgt': '150cm'}]"
      ]
     },
     "execution_count": 147,
     "metadata": {},
     "output_type": "execute_result"
    }
   ],
   "source": [
    "\n",
    "e_dicts = []\n",
    "for e in entries:\n",
    "    e_dict = {}\n",
    "    for kv in e.split(' '):\n",
    "        k, v = kv.split(':')\n",
    "        e_dict[k] = v\n",
    "    e_dicts.append(e_dict)\n",
    "e_dicts[0:2]\n",
    "    "
   ]
  },
  {
   "cell_type": "markdown",
   "metadata": {},
   "source": [
    "# Part 1"
   ]
  },
  {
   "cell_type": "code",
   "execution_count": 156,
   "metadata": {},
   "outputs": [
    {
     "name": "stdout",
     "output_type": "stream",
     "text": [
      "291 260\n"
     ]
    }
   ],
   "source": [
    "def has_missing(entry):\n",
    "    missing = {'byr', 'iyr', 'eyr', 'hgt', 'hcl', 'ecl', 'pid'} - set(entry.keys())\n",
    "    if missing:\n",
    "        return True\n",
    "    return False\n",
    "\n",
    "count = 0\n",
    "for e in e_dicts:\n",
    "    missing = has_missing(e)\n",
    "#     print(set(e.keys()), missing)\n",
    "    if not missing:\n",
    "#         print(f'accepted: {e}')\n",
    "        count += 1\n",
    "print(len(e_dicts), count)"
   ]
  },
  {
   "cell_type": "markdown",
   "metadata": {},
   "source": [
    "# Part 2"
   ]
  },
  {
   "cell_type": "code",
   "execution_count": 161,
   "metadata": {},
   "outputs": [],
   "source": [
    "def _validate_num(value, lower, upper):\n",
    "    v = int(value)\n",
    "    if not lower <= v <= upper:\n",
    "        return False\n",
    "    return True\n",
    "    \n",
    "def val_byr(value):\n",
    "    return _validate_num(value, 1920, 2002)\n",
    "\n",
    "def val_iyr(value):\n",
    "    return _validate_num(value, 2010, 2020)\n",
    "\n",
    "def val_eyr(value):\n",
    "    return _validate_num(value, 2020, 2030)\n",
    "\n",
    "def val_hgt(value):\n",
    "    units = value[-2:]\n",
    "    val = value[:-2]\n",
    "    if units == 'in':\n",
    "        return _validate_num(val, 59, 76)\n",
    "    elif units == 'cm':\n",
    "        return _validate_num(val, 150, 193)\n",
    "    else:\n",
    "        return False\n",
    "\n",
    "def val_hcl(value):\n",
    "    if re.match('#[0-9a-f]{6}', value):\n",
    "        return True\n",
    "    return False\n",
    "\n",
    "def val_ecl(value):\n",
    "    if value in ['amb', 'blu', 'brn', 'gry', 'grn', 'hzl', 'oth']:\n",
    "        return True\n",
    "    return False\n",
    "\n",
    "def val_pid(value):\n",
    "    if re.match('^\\d{9}(?!.)', value):\n",
    "        return True\n",
    "    else:\n",
    "#         print(value, re.match('\\d{9}(?!.)', value))\n",
    "        pass\n",
    "    return False\n",
    "\n",
    "def validate(entry):\n",
    "    def validate_key(key, value):\n",
    "        if key == 'byr':\n",
    "            return val_byr(value)\n",
    "        elif key == 'iyr':\n",
    "            return val_iyr(value)\n",
    "        elif key == 'eyr':\n",
    "            return val_eyr(value)\n",
    "        elif key == 'hgt':\n",
    "            return val_hgt(value)\n",
    "        elif key == 'hcl':\n",
    "            return val_hcl(value)\n",
    "        elif key == 'ecl':\n",
    "            return val_ecl(value)\n",
    "        elif key == 'pid':\n",
    "            return val_pid(value)\n",
    "        elif key == 'cid':\n",
    "            return True\n",
    "        else:\n",
    "            raise KeyError(f'got {key, value}')\n",
    "    \n",
    "    for k, v in entry.items():\n",
    "        truth = validate_key(k, v)\n",
    "        if not truth:\n",
    "#             print(k, v, validate_key(k, v))\n",
    "            return False\n",
    "    return True\n",
    "\n"
   ]
  },
  {
   "cell_type": "code",
   "execution_count": 162,
   "metadata": {},
   "outputs": [
    {
     "data": {
      "text/plain": [
       "153"
      ]
     },
     "execution_count": 162,
     "metadata": {},
     "output_type": "execute_result"
    }
   ],
   "source": [
    "count = np.sum([validate(e) and not has_missing(e) for e in e_dicts])\n",
    "count"
   ]
  },
  {
   "cell_type": "code",
   "execution_count": null,
   "metadata": {},
   "outputs": [],
   "source": []
  },
  {
   "cell_type": "code",
   "execution_count": null,
   "metadata": {},
   "outputs": [],
   "source": []
  }
 ],
 "metadata": {
  "kernelspec": {
   "display_name": "PyDatKernel",
   "language": "python",
   "name": "pydatkernel"
  },
  "language_info": {
   "codemirror_mode": {
    "name": "ipython",
    "version": 3
   },
   "file_extension": ".py",
   "mimetype": "text/x-python",
   "name": "python",
   "nbconvert_exporter": "python",
   "pygments_lexer": "ipython3",
   "version": "3.8.5"
  }
 },
 "nbformat": 4,
 "nbformat_minor": 4
}
