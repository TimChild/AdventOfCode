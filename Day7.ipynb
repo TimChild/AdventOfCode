{
 "cells": [
  {
   "cell_type": "code",
   "execution_count": 84,
   "metadata": {},
   "outputs": [],
   "source": [
    "import numpy as np\n",
    "import pandas as pd\n",
    "from itertools import product, chain\n",
    "import re"
   ]
  },
  {
   "cell_type": "code",
   "execution_count": 85,
   "metadata": {},
   "outputs": [
    {
     "data": {
      "text/plain": [
       "['dark cyan bags contain 4 bright turquoise bags, 5 faded cyan bags, 5 dim salmon bags.\\n',\n",
       " 'bright brown bags contain 4 drab tan bags, 4 mirrored gold bags.\\n',\n",
       " 'striped chartreuse bags contain 1 wavy silver bag.\\n',\n",
       " 'striped yellow bags contain 3 dim beige bags, 5 dim coral bags.\\n',\n",
       " 'dotted aqua bags contain 1 mirrored green bag, 5 shiny maroon bags.']"
      ]
     },
     "execution_count": 85,
     "metadata": {},
     "output_type": "execute_result"
    }
   ],
   "source": [
    "with open('Day7_input.txt') as f:\n",
    "    raw = f.readlines()\n",
    "raw[-5:]"
   ]
  },
  {
   "cell_type": "code",
   "execution_count": 86,
   "metadata": {},
   "outputs": [
    {
     "data": {
      "text/plain": [
       "[('shiny purple', {'pale blue': 2, 'wavy fuchsia': 1, 'pale salmon': 5}),\n",
       " ('bright gray', {'dotted coral': 4}),\n",
       " ('clear chartreuse', {'dark magenta': 3, 'dull gray': 3, 'dark silver': 4}),\n",
       " ('posh maroon', {'bright brown': 5, 'posh brown': 3, 'clear bronze': 4}),\n",
       " ('wavy plum',\n",
       "  {'dull turquoise': 2,\n",
       "   'dotted yellow': 2,\n",
       "   'drab silver': 2,\n",
       "   'wavy violet': 5})]"
      ]
     },
     "execution_count": 86,
     "metadata": {},
     "output_type": "execute_result"
    }
   ],
   "source": [
    "rules = dict()\n",
    "for line in raw:\n",
    "#     print(line)\n",
    "    key = re.match('^[a-z ]+(?= bags contain)', line)[0]\n",
    "#     print(f'key: {key}')\n",
    "    bags_string = re.search('(?<=bags contain ).+(?=\\.)', line)[0]\n",
    "#     print(bags_string)\n",
    "    if re.match('no other bags', bags_string):\n",
    "        bag_names = None\n",
    "    else:\n",
    "        bag_names = {re.search('(?<=\\d )[a-z ]+(?= bag)', item)[0]: int(re.search('\\d+', item)[0]) for item in bags_string.split(',')}\n",
    "#     print(bag_names)\n",
    "    rules[key] = bag_names\n",
    "list(rules.items())[0:5]"
   ]
  },
  {
   "cell_type": "markdown",
   "metadata": {},
   "source": [
    "# Part 1"
   ]
  },
  {
   "cell_type": "code",
   "execution_count": 90,
   "metadata": {},
   "outputs": [
    {
     "name": "stdout",
     "output_type": "stream",
     "text": [
      "10 0\n",
      "67 10\n",
      "149 67\n",
      "179 149\n",
      "179 179\n"
     ]
    }
   ],
   "source": [
    "options = set()\n",
    "total = 0\n",
    "while True:\n",
    "    for k, v in rules.items():\n",
    "        if v:\n",
    "            if any([bag in v for bag in options.union({'shiny gold'})]):\n",
    "#                 print(k)\n",
    "                options.add(k)\n",
    "    new_total = len(options)\n",
    "    print(new_total, total)\n",
    "    if new_total == total:\n",
    "        break\n",
    "    else:\n",
    "        total = new_total"
   ]
  },
  {
   "cell_type": "markdown",
   "metadata": {},
   "source": [
    "# Part 2"
   ]
  },
  {
   "cell_type": "code",
   "execution_count": 106,
   "metadata": {},
   "outputs": [
    {
     "data": {
      "text/plain": [
       "{'clear yellow',\n",
       " 'dark magenta',\n",
       " 'dark silver',\n",
       " 'dull bronze',\n",
       " 'faded olive',\n",
       " 'light blue',\n",
       " 'muted magenta',\n",
       " 'muted tomato',\n",
       " 'pale silver',\n",
       " 'vibrant silver'}"
      ]
     },
     "execution_count": 106,
     "metadata": {},
     "output_type": "execute_result"
    }
   ],
   "source": [
    "empty_bags = set()\n",
    "for k, v in rules.items():\n",
    "    if v is None:\n",
    "        empty_bags.add(k)\n",
    "empty_bags"
   ]
  },
  {
   "cell_type": "code",
   "execution_count": 114,
   "metadata": {},
   "outputs": [
    {
     "name": "stdout",
     "output_type": "stream",
     "text": [
      "clear orange {'pale silver': 4}\n",
      "vibrant magenta {'muted tomato': 5}\n",
      "light silver {'dark silver': 4, 'faded olive': 5}\n",
      "wavy gray {'vibrant silver': 4}\n",
      "wavy lavender {'dull bronze': 1, 'dark silver': 5, 'light blue': 5}\n",
      "posh silver {'pale silver': 4}\n",
      "muted teal {'faded olive': 1}\n",
      "dull gray {'clear yellow': 4, 'vibrant silver': 3}\n",
      "dull plum {'muted tomato': 3, 'clear yellow': 5}\n",
      "dark chartreuse {'clear yellow': 1}\n",
      "dim salmon {'dull bronze': 3, 'clear yellow': 3}\n",
      "muted lime {'pale silver': 3}\n",
      "dotted white {'vibrant silver': 3, 'faded olive': 2}\n",
      "light white {'dark magenta': 2}\n",
      "dark lime {'muted magenta': 3}\n"
     ]
    }
   ],
   "source": [
    "level_one_bags = set()\n",
    "for k, v in rules.items():\n",
    "    if v is not None and not set(v.keys()) - empty_bags:\n",
    "        level_one_bags.add(k)\n",
    "        print(k, rules[k])"
   ]
  },
  {
   "cell_type": "code",
   "execution_count": 115,
   "metadata": {},
   "outputs": [
    {
     "name": "stdout",
     "output_type": "stream",
     "text": [
      "clear chartreuse {'dark magenta': 3, 'dull gray': 3, 'dark silver': 4}\n",
      "dull orange {'dull gray': 4}\n",
      "clear orange {'pale silver': 4}\n",
      "striped plum {'light blue': 2, 'dull gray': 4, 'wavy lavender': 2}\n",
      "bright maroon {'dull gray': 2}\n",
      "vibrant magenta {'muted tomato': 5}\n",
      "shiny red {'clear orange': 1}\n",
      "dark beige {'wavy gray': 3}\n",
      "striped silver {'light white': 3}\n",
      "light silver {'dark silver': 4, 'faded olive': 5}\n",
      "wavy gray {'vibrant silver': 4}\n",
      "wavy lavender {'dull bronze': 1, 'dark silver': 5, 'light blue': 5}\n",
      "wavy white {'wavy gray': 1}\n",
      "posh silver {'pale silver': 4}\n",
      "bright lime {'clear orange': 2}\n",
      "pale indigo {'dull gray': 2}\n",
      "muted teal {'faded olive': 1}\n",
      "dull gray {'clear yellow': 4, 'vibrant silver': 3}\n",
      "light beige {'wavy lavender': 4, 'light white': 3}\n",
      "dull plum {'muted tomato': 3, 'clear yellow': 5}\n",
      "dark chartreuse {'clear yellow': 1}\n",
      "drab olive {'dull gray': 2}\n",
      "dotted lime {'light silver': 3}\n",
      "dim salmon {'dull bronze': 3, 'clear yellow': 3}\n",
      "muted lime {'pale silver': 3}\n",
      "dotted white {'vibrant silver': 3, 'faded olive': 2}\n",
      "light white {'dark magenta': 2}\n",
      "bright tomato {'dark chartreuse': 3}\n",
      "dark lime {'muted magenta': 3}\n",
      "plaid magenta {'light white': 3}\n"
     ]
    }
   ],
   "source": [
    "level_two_bags = set()\n",
    "for k, v in rules.items():\n",
    "    if v is not None and not set(v.keys()) - empty_bags - level_one_bags:\n",
    "        level_two_bags.add(k)\n",
    "        print(k, rules[k])"
   ]
  },
  {
   "cell_type": "code",
   "execution_count": 132,
   "metadata": {},
   "outputs": [
    {
     "data": {
      "text/plain": [
       "18925"
      ]
     },
     "execution_count": 132,
     "metadata": {},
     "output_type": "execute_result"
    }
   ],
   "source": [
    "def bag_contains(key):\n",
    "    look_in = rules[key]\n",
    "    num = 0\n",
    "    if look_in is None:\n",
    "        return 0\n",
    "    else:\n",
    "        for k, v in look_in.items():\n",
    "            num += (bag_contains(k)+1)*v\n",
    "#             print(key, k, v, num)\n",
    "        return num\n",
    "\n",
    "test0 = bag_contains('clear yellow')\n",
    "assert test0 == 0\n",
    "\n",
    "test1 = bag_contains('light silver')  # contains 4 dark silver, 5 faded olive (both level 0 bags)\n",
    "assert test1 == 9\n",
    "\n",
    "test2 = bag_contains('dull orange')  # contains 4 dull gray which is a level 1 bag\n",
    "assert test2 == 32\n",
    "\n",
    "bag_contains('shiny gold')"
   ]
  },
  {
   "cell_type": "code",
   "execution_count": null,
   "metadata": {},
   "outputs": [],
   "source": []
  }
 ],
 "metadata": {
  "kernelspec": {
   "display_name": "PyDatKernel",
   "language": "python",
   "name": "pydatkernel"
  },
  "language_info": {
   "codemirror_mode": {
    "name": "ipython",
    "version": 3
   },
   "file_extension": ".py",
   "mimetype": "text/x-python",
   "name": "python",
   "nbconvert_exporter": "python",
   "pygments_lexer": "ipython3",
   "version": "3.8.5"
  }
 },
 "nbformat": 4,
 "nbformat_minor": 4
}
