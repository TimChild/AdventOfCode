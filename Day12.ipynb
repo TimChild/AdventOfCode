{
 "cells": [
  {
   "cell_type": "code",
   "execution_count": 53,
   "metadata": {},
   "outputs": [],
   "source": [
    "import numpy as np\n",
    "import pandas as pd\n",
    "import math\n",
    "from itertools import product, chain\n",
    "import re"
   ]
  },
  {
   "cell_type": "code",
   "execution_count": 59,
   "metadata": {},
   "outputs": [
    {
     "data": {
      "text/plain": [
       "[('F', 98), ('S', 4), ('S', 4), ('L', 180), ('W', 4)]"
      ]
     },
     "execution_count": 59,
     "metadata": {},
     "output_type": "execute_result"
    }
   ],
   "source": [
    "# with open('Day12_input_test.txt') as f:\n",
    "with open('Day12_input.txt') as f:\n",
    "    raw = f.readlines()\n",
    "raw = [r.strip() for r in raw]\n",
    "instructions = [(l[0], int(l[1:])) for l in raw]\n",
    "instructions[0:5]"
   ]
  },
  {
   "cell_type": "code",
   "execution_count": 60,
   "metadata": {},
   "outputs": [],
   "source": [
    "class Ship:\n",
    "    def __init__(self):\n",
    "        self.direction = 0\n",
    "        self.pos_x = 0\n",
    "        self.pos_y = 0\n",
    "        \n",
    "    def do_instruction(self, instruction):\n",
    "        ins_type, val = instruction\n",
    "        if ins_type == 'F':\n",
    "            self.forward(val)\n",
    "        elif ins_type in ['N', 'E', 'S', 'W']:\n",
    "            self.move(ins_type, val)\n",
    "        elif ins_type in ['L', 'R']:\n",
    "            self.rotate(ins_type, val)\n",
    "        else:\n",
    "            raise ValueError\n",
    "        \n",
    "    def rotate(self, lr, amount):\n",
    "        if lr == 'R':\n",
    "            way = 1\n",
    "        elif lr == 'L':\n",
    "            way = -1\n",
    "        else:\n",
    "            raise ValueError\n",
    "        self.direction = (self.direction + way*amount/90)%4\n",
    "    \n",
    "    def forward(self, amount):\n",
    "        if self.direction == 0:\n",
    "            self.pos_x += amount\n",
    "        elif self.direction == 1:\n",
    "            self.pos_y += -amount\n",
    "        elif self.direction == 2:\n",
    "            self.pos_x += -amount\n",
    "        elif self.direction == 3:\n",
    "            self.pos_y += amount\n",
    "        else:\n",
    "            raise ValueError\n",
    "    \n",
    "    def move(self, way, amount):\n",
    "        if way == 'N':\n",
    "            self.pos_y += amount\n",
    "        elif way == 'E':\n",
    "            self.pos_x += amount\n",
    "        elif way == 'S':\n",
    "            self.pos_y += -amount\n",
    "        elif way == 'W':\n",
    "            self.pos_x += -amount\n",
    "        else:\n",
    "            raise ValueError\n"
   ]
  },
  {
   "cell_type": "markdown",
   "metadata": {},
   "source": [
    "# Part 1"
   ]
  },
  {
   "cell_type": "code",
   "execution_count": 61,
   "metadata": {},
   "outputs": [
    {
     "name": "stdout",
     "output_type": "stream",
     "text": [
      "678 -1780 2458\n"
     ]
    }
   ],
   "source": [
    "ship = Ship()\n",
    "for ins in instructions:\n",
    "#     print(ship.pos_x, ship.pos_y)\n",
    "    ship.do_instruction(ins)\n",
    "    \n",
    "\n",
    "print(ship.pos_x, ship.pos_y, abs(ship.pos_x) + abs(ship.pos_y))\n",
    "    "
   ]
  },
  {
   "cell_type": "markdown",
   "metadata": {},
   "source": [
    "# Part 2"
   ]
  },
  {
   "cell_type": "code",
   "execution_count": 62,
   "metadata": {},
   "outputs": [],
   "source": [
    "class Ship2:\n",
    "    def __init__(self):\n",
    "        self.waypoint_x = 10\n",
    "        self.waypoint_y = 1\n",
    "        self.ship_x = 0\n",
    "        self.ship_y = 0\n",
    "        \n",
    "    @property\n",
    "    def waypoint(self):\n",
    "        return self.waypoint_x, self.waypoint_y\n",
    "    \n",
    "    @property\n",
    "    def ship(self):\n",
    "        return self.ship_x, self.ship_y\n",
    "    \n",
    "    def do_instruction(self, instruction):\n",
    "        ins_type, val = instruction\n",
    "        if ins_type == 'F':\n",
    "            self.forward(val)\n",
    "        elif ins_type in ['N', 'E', 'S', 'W']:\n",
    "            self.shift_waypoint(ins_type, val)\n",
    "        elif ins_type in ['L', 'R']:\n",
    "            self.rotate(ins_type, val)\n",
    "        else:\n",
    "            raise ValueError        \n",
    "    \n",
    "    def forward(self, amount):\n",
    "        self.ship_x += self.waypoint_x*amount\n",
    "        self.ship_y += self.waypoint_y*amount\n",
    "    \n",
    "    def rotate(self, lr, amount):\n",
    "        if lr == 'R':\n",
    "            num = 1\n",
    "        elif lr == 'L':\n",
    "            num = -1\n",
    "        else:\n",
    "            raise ValueError\n",
    "        self.waypoint_x, self.waypoint_y = rotate(*self.waypoint, amount*num)\n",
    "        \n",
    "    def shift_waypoint(self, way, amount):\n",
    "        if way == 'N':\n",
    "            self.waypoint_y += amount\n",
    "        elif way == 'E':\n",
    "            self.waypoint_x += amount\n",
    "        elif way == 'S':\n",
    "            self.waypoint_y += -amount\n",
    "        elif way == 'W':\n",
    "            self.waypoint_x += -amount\n",
    "        else:\n",
    "            raise ValueError\n",
    "    \n",
    "def rotate(x, y, degrees):\n",
    "    radians = np.deg2rad(degrees)\n",
    "    xx = x * math.cos(radians) + y * math.sin(radians)\n",
    "    yy = -x * math.sin(radians) + y * math.cos(radians)\n",
    "    return xx, yy\n",
    "        "
   ]
  },
  {
   "cell_type": "code",
   "execution_count": 63,
   "metadata": {},
   "outputs": [
    {
     "name": "stdout",
     "output_type": "stream",
     "text": [
      "(105444.00000000001, -39673.000000000044) 145117.00000000006\n"
     ]
    }
   ],
   "source": [
    "ship2 = Ship2()\n",
    "for ins in instructions:\n",
    "    ship2.do_instruction(ins)\n",
    "print(ship2.ship, np.sum([abs(v) for v in ship2.ship]))"
   ]
  },
  {
   "cell_type": "code",
   "execution_count": null,
   "metadata": {},
   "outputs": [],
   "source": []
  }
 ],
 "metadata": {
  "kernelspec": {
   "display_name": "PyDatKernel",
   "language": "python",
   "name": "pydatkernel"
  },
  "language_info": {
   "codemirror_mode": {
    "name": "ipython",
    "version": 3
   },
   "file_extension": ".py",
   "mimetype": "text/x-python",
   "name": "python",
   "nbconvert_exporter": "python",
   "pygments_lexer": "ipython3",
   "version": "3.8.5"
  }
 },
 "nbformat": 4,
 "nbformat_minor": 4
}
