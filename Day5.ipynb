{
 "cells": [
  {
   "cell_type": "code",
   "execution_count": 3,
   "metadata": {},
   "outputs": [],
   "source": [
    "import numpy as np\n",
    "import pandas as pd\n",
    "from itertools import product\n",
    "import re"
   ]
  },
  {
   "cell_type": "code",
   "execution_count": 4,
   "metadata": {},
   "outputs": [
    {
     "data": {
      "text/plain": [
       "array(['FBFFBFFRLL', 'BFFBFBBLRR', 'FFFBFBFLLR', 'BBFFFBBRRR',\n",
       "       'FBFFFFBLLR', 'BFFFFBFRLL', 'FBBFFBBRRL', 'BFBBBBFLLR',\n",
       "       'BBBFFFBLLL', 'BBFFFBBLRL'], dtype=object)"
      ]
     },
     "execution_count": 4,
     "metadata": {},
     "output_type": "execute_result"
    }
   ],
   "source": [
    "data = np.array(pd.read_csv('Day5_Input.txt', header=None))[:,0]\n",
    "data[0:10]"
   ]
  },
  {
   "cell_type": "code",
   "execution_count": 5,
   "metadata": {},
   "outputs": [
    {
     "data": {
      "text/plain": [
       "[('0100100', '100'),\n",
       " ('1001011', '011'),\n",
       " ('0001010', '001'),\n",
       " ('1100011', '111'),\n",
       " ('0100001', '001'),\n",
       " ('1000010', '100'),\n",
       " ('0110011', '110'),\n",
       " ('1011110', '001'),\n",
       " ('1110001', '000'),\n",
       " ('1100011', '010')]"
      ]
     },
     "execution_count": 5,
     "metadata": {},
     "output_type": "execute_result"
    }
   ],
   "source": [
    "binary = [(entry[:7].replace('F','0').replace('B','1'), entry[7:].replace('R', '1').replace('L','0')) for entry in data]\n",
    "binary[0:10]"
   ]
  },
  {
   "cell_type": "markdown",
   "metadata": {},
   "source": [
    "# Part 1"
   ]
  },
  {
   "cell_type": "code",
   "execution_count": 6,
   "metadata": {},
   "outputs": [
    {
     "data": {
      "text/plain": [
       "[(36, 4),\n",
       " (75, 3),\n",
       " (10, 1),\n",
       " (99, 7),\n",
       " (33, 1),\n",
       " (66, 4),\n",
       " (51, 6),\n",
       " (94, 1),\n",
       " (113, 0),\n",
       " (99, 2)]"
      ]
     },
     "execution_count": 6,
     "metadata": {},
     "output_type": "execute_result"
    }
   ],
   "source": [
    "def bin_to_dec(b_str):\n",
    "    return int(b_str, base=2)\n",
    "\n",
    "decimals = [(bin_to_dec(a), bin_to_dec(b)) for a, b in binary]\n",
    "decimals[0:10]"
   ]
  },
  {
   "cell_type": "code",
   "execution_count": 7,
   "metadata": {},
   "outputs": [
    {
     "data": {
      "text/plain": [
       "991"
      ]
     },
     "execution_count": 7,
     "metadata": {},
     "output_type": "execute_result"
    }
   ],
   "source": [
    "ids = [a*8+b for a, b in decimals]\n",
    "max(ids)"
   ]
  },
  {
   "cell_type": "markdown",
   "metadata": {},
   "source": [
    "# Part 2"
   ]
  },
  {
   "cell_type": "code",
   "execution_count": 8,
   "metadata": {},
   "outputs": [
    {
     "data": {
      "text/plain": [
       "534"
      ]
     },
     "execution_count": 8,
     "metadata": {},
     "output_type": "execute_result"
    }
   ],
   "source": [
    "ordered_ids = np.array(sorted(ids))\n",
    "ordered_ids[np.where(np.diff(ordered_ids) != 1)][0] + 1\n"
   ]
  },
  {
   "cell_type": "code",
   "execution_count": null,
   "metadata": {},
   "outputs": [],
   "source": []
  }
 ],
 "metadata": {
  "kernelspec": {
   "display_name": "PyDatKernel",
   "language": "python",
   "name": "pydatkernel"
  },
  "language_info": {
   "codemirror_mode": {
    "name": "ipython",
    "version": 3
   },
   "file_extension": ".py",
   "mimetype": "text/x-python",
   "name": "python",
   "nbconvert_exporter": "python",
   "pygments_lexer": "ipython3",
   "version": "3.8.5"
  }
 },
 "nbformat": 4,
 "nbformat_minor": 4
}
