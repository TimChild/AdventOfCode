{
 "cells": [
  {
   "cell_type": "code",
   "execution_count": null,
   "metadata": {},
   "outputs": [],
   "source": [
    "import numpy as np\n",
    "import pandas as pd\n",
    "from itertools import product, chain\n",
    "from functools import lru_cache\n",
    "from multiprocessing import Pool\n",
    "from Day11_async_functions import _async_iter_seats\n",
    "import re"
   ]
  },
  {
   "cell_type": "code",
   "execution_count": 4,
   "metadata": {},
   "outputs": [
    {
     "name": "stdout",
     "output_type": "stream",
     "text": [
      "(10, 10)\n"
     ]
    }
   ],
   "source": [
    "@lru_cache\n",
    "def gen_data():\n",
    "#     with open('Day11_input.txt') as f:\n",
    "    with open('Day11_input_test.txt') as f:\n",
    "        raw = f.readlines()\n",
    "    data = np.array([[char for char in row.strip()] for row in raw])\n",
    "    indexs = np.where(data)\n",
    "    return data, indexs\n",
    "data, indexs = gen_data()\n",
    "print(data.shape)"
   ]
  },
  {
   "cell_type": "code",
   "execution_count": 5,
   "metadata": {},
   "outputs": [],
   "source": [
    "# @lru_cache\n",
    "def check_coords(y, x):\n",
    "    check_coords = [(y-1, x), (y+1, x), (y, x+1), (y, x-1), (y+1, x+1), (y+1, x-1), (y-1, x+1), (y-1, x-1)]\n",
    "    check_coords = [(y, x) for y, x in check_coords if (y >= 0 and y <= data.shape[0]-1) and (x >= 0 and x <= data.shape[1]-1)]\n",
    "    check_coords = np.array(check_coords)\n",
    "    return check_coords\n",
    "    \n",
    "def empty(y, x):\n",
    "    if data[y, x] in ['.', '#']:\n",
    "        return False\n",
    "    surrounding_coords = check_coords(y, x)\n",
    "    if all([p in ['.', 'L'] for p, coords in zip(data[tuple(surrounding_coords.T)], surrounding_coords)]):\n",
    "        return True\n",
    "    return False\n",
    "\n",
    "def full(y, x):\n",
    "    if data[y, x] in ['.', 'L']:\n",
    "        return False\n",
    "    surrounding_coords = check_coords(y, x)\n",
    "    if np.sum(data[tuple(surrounding_coords.T)] == '#') >= 4:\n",
    "        return True\n",
    "    return False    \n"
   ]
  },
  {
   "cell_type": "markdown",
   "metadata": {},
   "source": [
    "# Part 1"
   ]
  },
  {
   "cell_type": "code",
   "execution_count": 6,
   "metadata": {},
   "outputs": [],
   "source": [
    "data, indexs = gen_data()\n",
    "\n",
    "\n",
    "\n",
    "def iter_seats(data, indexs, async_mode = False):\n",
    "    if async_mode:\n",
    "        empties, fulls = _async_iter_seats(data, indexs)\n",
    "    else:\n",
    "        empties, fulls = _iter_seats(data, indexs)\n",
    "    changed = False\n",
    "    if np.any(empties) or np.any(fulls):\n",
    "        changed = True\n",
    "        data[np.where(empties)] = '#'\n",
    "        data[np.where(fulls)] = 'L'\n",
    "    return data, changed\n",
    "\n",
    "\n",
    "def _iter_seats(data, indexs):\n",
    "    empties = np.array(list(map(empty, *indexs))).reshape(data.shape)\n",
    "    fulls = np.array(list(map(full, *indexs))).reshape(data.shape)\n",
    "    return empties, fulls\n",
    "    \n",
    "    \n",
    "\n",
    "    \n",
    "\n",
    "\n",
    "def iter_till_finished(data):\n",
    "    while True:\n",
    "        data, changed = iter_seats(data)\n",
    "        if changed is False:\n",
    "            break\n",
    "    return data"
   ]
  },
  {
   "cell_type": "code",
   "execution_count": null,
   "metadata": {},
   "outputs": [],
   "source": [
    "def test(a):\n",
    "    print(a*2)\n",
    "    return a*3\n",
    "\n",
    "with Pool(processes = 6) as pool:\n",
    "    vals = pool.starmap(test, range(10))\n",
    "\n",
    "print(vals)"
   ]
  },
  {
   "cell_type": "code",
   "execution_count": null,
   "metadata": {},
   "outputs": [
    {
     "name": "stdout",
     "output_type": "stream",
     "text": [
      "here1\n"
     ]
    }
   ],
   "source": [
    "data, indexs = gen_data()\n",
    "_async_iter_seats(data, indexs)"
   ]
  },
  {
   "cell_type": "code",
   "execution_count": 150,
   "metadata": {},
   "outputs": [
    {
     "name": "stdout",
     "output_type": "stream",
     "text": [
      "[['#' 'L' '#' ... '#' 'L' '#']\n",
      " ['L' 'L' 'L' ... 'L' 'L' 'L']\n",
      " ['#' 'L' '#' ... '#' 'L' '#']\n",
      " ...\n",
      " ['#' 'L' '#' ... '#' 'L' '#']\n",
      " ['L' 'L' 'L' ... 'L' 'L' 'L']\n",
      " ['#' 'L' '#' ... '#' 'L' '#']]\n",
      "2194\n"
     ]
    }
   ],
   "source": [
    "filled = iter_till_finished(data, indexs)\n",
    "print(filled)\n",
    "print(np.sum(filled == '#'))\n",
    "# print(data)\n",
    "# data = iter_seats(data)\n",
    "# print(data)"
   ]
  },
  {
   "cell_type": "code",
   "execution_count": null,
   "metadata": {},
   "outputs": [],
   "source": [
    "# data, indexs = gen_data()\n",
    "from time import time\n",
    "t = time()\n",
    "iter_seats(data, indexs, async_mode = True)\n",
    "f = time()\n",
    "print(f-t)"
   ]
  },
  {
   "cell_type": "markdown",
   "metadata": {},
   "source": [
    "# Part 2"
   ]
  },
  {
   "cell_type": "code",
   "execution_count": null,
   "metadata": {},
   "outputs": [],
   "source": []
  }
 ],
 "metadata": {
  "kernelspec": {
   "display_name": "PyDatKernel",
   "language": "python",
   "name": "pydatkernel"
  },
  "language_info": {
   "codemirror_mode": {
    "name": "ipython",
    "version": 3
   },
   "file_extension": ".py",
   "mimetype": "text/x-python",
   "name": "python",
   "nbconvert_exporter": "python",
   "pygments_lexer": "ipython3",
   "version": "3.8.5"
  }
 },
 "nbformat": 4,
 "nbformat_minor": 4
}
