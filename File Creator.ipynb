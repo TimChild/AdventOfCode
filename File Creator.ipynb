{
 "cells": [
  {
   "cell_type": "code",
   "execution_count": 1,
   "metadata": {},
   "outputs": [],
   "source": [
    "import os\n",
    "import shutil"
   ]
  },
  {
   "cell_type": "code",
   "execution_count": 4,
   "metadata": {},
   "outputs": [],
   "source": [
    "for i in range(10, 25):\n",
    "    if not os.path.exists(f'Day{i}.ipynb'):\n",
    "        shutil.copy2('Day_.ipynb', f'Day{i}.ipynb')\n",
    "    if not os.path.exists(f'Day{i}_Inpuut.txt'):\n",
    "        with open(f'Day{i}_Input.txt', 'w'):\n",
    "            pass"
   ]
  },
  {
   "cell_type": "code",
   "execution_count": 5,
   "metadata": {},
   "outputs": [],
   "source": [
    "for i in range(11, 25):\n",
    "#     if not os.path.exists(f'Day{i}.ipynb'):\n",
    "#         shutil.copy2('Day_.ipynb', f'Day{i}.ipynb')\n",
    "#     if not os.path.exists(f'Day{i}_Inpuut.txt'):\n",
    "#         with open(f'Day{i}_Input.txt', 'w'):\n",
    "#             pass\n",
    "    if not os.path.exists(f'Day{i}_Inpuut_test.txt'):\n",
    "        with open(f'Day{i}_Input_test.txt', 'w'):\n",
    "            pass"
   ]
  },
  {
   "cell_type": "code",
   "execution_count": null,
   "metadata": {},
   "outputs": [],
   "source": []
  }
 ],
 "metadata": {
  "kernelspec": {
   "display_name": "PyDatKernel",
   "language": "python",
   "name": "pydatkernel"
  },
  "language_info": {
   "codemirror_mode": {
    "name": "ipython",
    "version": 3
   },
   "file_extension": ".py",
   "mimetype": "text/x-python",
   "name": "python",
   "nbconvert_exporter": "python",
   "pygments_lexer": "ipython3",
   "version": "3.8.5"
  }
 },
 "nbformat": 4,
 "nbformat_minor": 4
}
