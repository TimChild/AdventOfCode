{
 "cells": [
  {
   "cell_type": "code",
   "execution_count": 1,
   "metadata": {},
   "outputs": [],
   "source": [
    "import numpy as np\n",
    "import pandas as pd\n",
    "from itertools import product"
   ]
  },
  {
   "cell_type": "code",
   "execution_count": 3,
   "metadata": {},
   "outputs": [
    {
     "data": {
      "text/plain": [
       "0      1753\n",
       "1      1858\n",
       "2      1860\n",
       "3      1978\n",
       "4      1758\n",
       "       ... \n",
       "195    1578\n",
       "196    1703\n",
       "197    1895\n",
       "198    1765\n",
       "199    1572\n",
       "Name: data, Length: 200, dtype: int64"
      ]
     },
     "execution_count": 3,
     "metadata": {},
     "output_type": "execute_result"
    }
   ],
   "source": [
    "data = pd.read_csv('Day1_Input.txt', header=None, names = ['data'])\n",
    "data = data['data']\n",
    "data"
   ]
  },
  {
   "cell_type": "code",
   "execution_count": 4,
   "metadata": {},
   "outputs": [
    {
     "name": "stdout",
     "output_type": "stream",
     "text": [
      "1535 485 744475\n",
      "485 1535 744475\n"
     ]
    }
   ],
   "source": [
    "x, y = data, data\n",
    "combs = product(x, y)\n",
    "\n",
    "for a, b in combs:\n",
    "    if a+b == 2020:\n",
    "        print(a, b, a*b)\n",
    "        break"
   ]
  },
  {
   "cell_type": "code",
   "execution_count": 12,
   "metadata": {},
   "outputs": [
    {
     "name": "stdout",
     "output_type": "stream",
     "text": [
      "70276940\n",
      "1773112\n"
     ]
    }
   ],
   "source": [
    "num = 3\n",
    "combs = product(*[data]*num)\n",
    "counts = 0\n",
    "for parts in combs:\n",
    "    counts += 1\n",
    "    if sum(parts) == 2020:\n",
    "        print(np.product(parts))\n",
    "        break\n",
    "print(counts)"
   ]
  },
  {
   "cell_type": "code",
   "execution_count": null,
   "metadata": {},
   "outputs": [],
   "source": []
  }
 ],
 "metadata": {
  "kernelspec": {
   "display_name": "PyDatKernel",
   "language": "python",
   "name": "pydatkernel"
  },
  "language_info": {
   "codemirror_mode": {
    "name": "ipython",
    "version": 3
   },
   "file_extension": ".py",
   "mimetype": "text/x-python",
   "name": "python",
   "nbconvert_exporter": "python",
   "pygments_lexer": "ipython3",
   "version": "3.8.5"
  }
 },
 "nbformat": 4,
 "nbformat_minor": 4
}
