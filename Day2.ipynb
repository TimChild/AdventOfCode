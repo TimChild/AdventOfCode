{
 "cells": [
  {
   "cell_type": "code",
   "execution_count": 12,
   "metadata": {},
   "outputs": [],
   "source": [
    "import numpy as np\n",
    "import pandas as pd\n",
    "from itertools import product\n",
    "import re"
   ]
  },
  {
   "cell_type": "code",
   "execution_count": 51,
   "metadata": {},
   "outputs": [
    {
     "data": {
      "text/html": [
       "<div>\n",
       "<style scoped>\n",
       "    .dataframe tbody tr th:only-of-type {\n",
       "        vertical-align: middle;\n",
       "    }\n",
       "\n",
       "    .dataframe tbody tr th {\n",
       "        vertical-align: top;\n",
       "    }\n",
       "\n",
       "    .dataframe thead th {\n",
       "        text-align: right;\n",
       "    }\n",
       "</style>\n",
       "<table border=\"1\" class=\"dataframe\">\n",
       "  <thead>\n",
       "    <tr style=\"text-align: right;\">\n",
       "      <th></th>\n",
       "      <th>num</th>\n",
       "      <th>letter</th>\n",
       "      <th>word</th>\n",
       "      <th>num_0</th>\n",
       "      <th>num_1</th>\n",
       "    </tr>\n",
       "  </thead>\n",
       "  <tbody>\n",
       "    <tr>\n",
       "      <th>0</th>\n",
       "      <td>2-8</td>\n",
       "      <td>t</td>\n",
       "      <td>pncmjxlvckfbtrjh</td>\n",
       "      <td>2</td>\n",
       "      <td>8</td>\n",
       "    </tr>\n",
       "    <tr>\n",
       "      <th>1</th>\n",
       "      <td>8-9</td>\n",
       "      <td>l</td>\n",
       "      <td>lzllllldsl</td>\n",
       "      <td>8</td>\n",
       "      <td>9</td>\n",
       "    </tr>\n",
       "    <tr>\n",
       "      <th>2</th>\n",
       "      <td>3-11</td>\n",
       "      <td>c</td>\n",
       "      <td>ccchcccccclxnkcmc</td>\n",
       "      <td>3</td>\n",
       "      <td>11</td>\n",
       "    </tr>\n",
       "    <tr>\n",
       "      <th>3</th>\n",
       "      <td>3-10</td>\n",
       "      <td>h</td>\n",
       "      <td>xcvxkdqshh</td>\n",
       "      <td>3</td>\n",
       "      <td>10</td>\n",
       "    </tr>\n",
       "    <tr>\n",
       "      <th>4</th>\n",
       "      <td>4-5</td>\n",
       "      <td>s</td>\n",
       "      <td>gssss</td>\n",
       "      <td>4</td>\n",
       "      <td>5</td>\n",
       "    </tr>\n",
       "    <tr>\n",
       "      <th>...</th>\n",
       "      <td>...</td>\n",
       "      <td>...</td>\n",
       "      <td>...</td>\n",
       "      <td>...</td>\n",
       "      <td>...</td>\n",
       "    </tr>\n",
       "    <tr>\n",
       "      <th>995</th>\n",
       "      <td>4-10</td>\n",
       "      <td>c</td>\n",
       "      <td>cccjncjsccr</td>\n",
       "      <td>4</td>\n",
       "      <td>10</td>\n",
       "    </tr>\n",
       "    <tr>\n",
       "      <th>996</th>\n",
       "      <td>10-18</td>\n",
       "      <td>h</td>\n",
       "      <td>xkswshrhghxlnmhqzr</td>\n",
       "      <td>10</td>\n",
       "      <td>18</td>\n",
       "    </tr>\n",
       "    <tr>\n",
       "      <th>997</th>\n",
       "      <td>5-18</td>\n",
       "      <td>k</td>\n",
       "      <td>kkkkkkkhkkkklkkkknk</td>\n",
       "      <td>5</td>\n",
       "      <td>18</td>\n",
       "    </tr>\n",
       "    <tr>\n",
       "      <th>998</th>\n",
       "      <td>9-10</td>\n",
       "      <td>t</td>\n",
       "      <td>ttttttttnt</td>\n",
       "      <td>9</td>\n",
       "      <td>10</td>\n",
       "    </tr>\n",
       "    <tr>\n",
       "      <th>999</th>\n",
       "      <td>10-11</td>\n",
       "      <td>x</td>\n",
       "      <td>xxxxxxxxxcv</td>\n",
       "      <td>10</td>\n",
       "      <td>11</td>\n",
       "    </tr>\n",
       "  </tbody>\n",
       "</table>\n",
       "<p>1000 rows × 5 columns</p>\n",
       "</div>"
      ],
      "text/plain": [
       "       num letter                 word  num_0  num_1\n",
       "0      2-8      t     pncmjxlvckfbtrjh      2      8\n",
       "1      8-9      l           lzllllldsl      8      9\n",
       "2     3-11      c    ccchcccccclxnkcmc      3     11\n",
       "3     3-10      h           xcvxkdqshh      3     10\n",
       "4      4-5      s                gssss      4      5\n",
       "..     ...    ...                  ...    ...    ...\n",
       "995   4-10      c          cccjncjsccr      4     10\n",
       "996  10-18      h   xkswshrhghxlnmhqzr     10     18\n",
       "997   5-18      k  kkkkkkkhkkkklkkkknk      5     18\n",
       "998   9-10      t           ttttttttnt      9     10\n",
       "999  10-11      x          xxxxxxxxxcv     10     11\n",
       "\n",
       "[1000 rows x 5 columns]"
      ]
     },
     "execution_count": 51,
     "metadata": {},
     "output_type": "execute_result"
    }
   ],
   "source": [
    "data = pd.read_csv('Day2_Input.txt', header=None, names=['num', 'letter', 'word'],  delimiter=' ')\n",
    "data['letter'] = [d[:-1] for d in data['letter']]\n",
    "data['num_0'] = [int(d.split('-')[0]) for d in data['num']]\n",
    "data['num_1'] = [int(d.split('-')[-1]) for d in data['num']]\n",
    "data"
   ]
  },
  {
   "cell_type": "code",
   "execution_count": 52,
   "metadata": {},
   "outputs": [
    {
     "data": {
      "text/plain": [
       "666"
      ]
     },
     "execution_count": 52,
     "metadata": {},
     "output_type": "execute_result"
    }
   ],
   "source": [
    "# Part 1\n",
    "np.sum(data.apply(lambda row: row['num_0'] <= row['word'].count(row['letter']) and row['word'].count(row['letter']) <= row['num_1'], axis=1))"
   ]
  },
  {
   "cell_type": "code",
   "execution_count": 67,
   "metadata": {},
   "outputs": [
    {
     "data": {
      "text/plain": [
       "670"
      ]
     },
     "execution_count": 67,
     "metadata": {},
     "output_type": "execute_result"
    }
   ],
   "source": [
    "# Part 2\n",
    "def get_letter(word, index):\n",
    "    if index-1 < len(word):\n",
    "        return word[index-1]\n",
    "    return None\n",
    "\n",
    "np.sum(data.apply(lambda row: (get_letter(row['word'], row['num_0']) == row['letter']) != (get_letter(row['word'], row['num_1']) == row['letter']), axis=1))"
   ]
  },
  {
   "cell_type": "code",
   "execution_count": null,
   "metadata": {},
   "outputs": [],
   "source": [
    "\n"
   ]
  }
 ],
 "metadata": {
  "kernelspec": {
   "display_name": "PyDatKernel",
   "language": "python",
   "name": "pydatkernel"
  },
  "language_info": {
   "codemirror_mode": {
    "name": "ipython",
    "version": 3
   },
   "file_extension": ".py",
   "mimetype": "text/x-python",
   "name": "python",
   "nbconvert_exporter": "python",
   "pygments_lexer": "ipython3",
   "version": "3.8.5"
  }
 },
 "nbformat": 4,
 "nbformat_minor": 4
}
